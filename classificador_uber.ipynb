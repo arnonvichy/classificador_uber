{
 "cells": [
  {
   "cell_type": "markdown",
   "metadata": {},
   "source": [
    "# Classificador Uber"
   ]
  },
  {
   "cell_type": "markdown",
   "metadata": {},
   "source": [
    "O Brasil é um dos principais mercados da Uber no mundo e, por isso, suas principais categorias estão em operação no país.\n",
    "\n",
    "Vale ressaltar que, durante sua abertura de capital, a Uber anunciou que, naquele momento, o Brasil era o segundo país que mais solicitava corridas do app no mundo, perdendo apenas para os EUA. Por isso, é evidente que o aplicativo tem uma visão especial para o país.\n",
    "\n",
    "Atualmente, a empresa conta com quatorze categorias em operação no Brasil, sem falar da Uber Eats e da Cornershop, serviço de entregas de alimentos e mercado, respectivamente.\n",
    "\n",
    "O objetivo desse projeto é aplicar técnicas de EDA e _machine learning_ para prever a categoria utilizada em determinada corrida de um banco de dados real*.\n",
    "\n",
    "    * É importante frisar que a massa de dados original foi bastante \"podada\" para não causar nenhum problema de privacidade dos dados. "
   ]
  },
  {
   "cell_type": "markdown",
   "metadata": {},
   "source": [
    "## 1. Carregando os Dados"
   ]
  },
  {
   "cell_type": "markdown",
   "metadata": {},
   "source": [
    "Importando a biblioteca necessária para carregar o banco de dados:"
   ]
  },
  {
   "cell_type": "code",
   "execution_count": 2,
   "metadata": {},
   "outputs": [],
   "source": [
    "import pandas as pd\n",
    "pd.set_option('display.max_columns', None)"
   ]
  },
  {
   "cell_type": "markdown",
   "metadata": {},
   "source": [
    "Carregando e exibindo o banco de dados:"
   ]
  },
  {
   "cell_type": "code",
   "execution_count": 3,
   "metadata": {},
   "outputs": [
    {
     "data": {
      "text/html": [
       "<div>\n",
       "<style scoped>\n",
       "    .dataframe tbody tr th:only-of-type {\n",
       "        vertical-align: middle;\n",
       "    }\n",
       "\n",
       "    .dataframe tbody tr th {\n",
       "        vertical-align: top;\n",
       "    }\n",
       "\n",
       "    .dataframe thead th {\n",
       "        text-align: right;\n",
       "    }\n",
       "</style>\n",
       "<table border=\"1\" class=\"dataframe\">\n",
       "  <thead>\n",
       "    <tr style=\"text-align: right;\">\n",
       "      <th></th>\n",
       "      <th>Data da solicitação (local)</th>\n",
       "      <th>Hora da solicitação (local)</th>\n",
       "      <th>Serviço</th>\n",
       "      <th>Distância (mi)</th>\n",
       "      <th>Duração (min)</th>\n",
       "      <th>Grupo</th>\n",
       "      <th>Valor da transação em BRL (com tributos)</th>\n",
       "    </tr>\n",
       "  </thead>\n",
       "  <tbody>\n",
       "    <tr>\n",
       "      <th>0</th>\n",
       "      <td>2020-01-18</td>\n",
       "      <td>01:33:00</td>\n",
       "      <td>Travel | UberX</td>\n",
       "      <td>10.18</td>\n",
       "      <td>21</td>\n",
       "      <td>Diretores</td>\n",
       "      <td>29.38</td>\n",
       "    </tr>\n",
       "    <tr>\n",
       "      <th>1</th>\n",
       "      <td>2020-01-18</td>\n",
       "      <td>11:19:00</td>\n",
       "      <td>Travel | UberX</td>\n",
       "      <td>2.25</td>\n",
       "      <td>12</td>\n",
       "      <td>--</td>\n",
       "      <td>8.79</td>\n",
       "    </tr>\n",
       "    <tr>\n",
       "      <th>2</th>\n",
       "      <td>2020-02-12</td>\n",
       "      <td>17:42:00</td>\n",
       "      <td>Travel | VIP</td>\n",
       "      <td>4.19</td>\n",
       "      <td>29</td>\n",
       "      <td>--</td>\n",
       "      <td>12.09</td>\n",
       "    </tr>\n",
       "    <tr>\n",
       "      <th>3</th>\n",
       "      <td>2020-02-13</td>\n",
       "      <td>04:49:00</td>\n",
       "      <td>Travel | UberX</td>\n",
       "      <td>12.41</td>\n",
       "      <td>29</td>\n",
       "      <td>Geral</td>\n",
       "      <td>28.46</td>\n",
       "    </tr>\n",
       "    <tr>\n",
       "      <th>4</th>\n",
       "      <td>2020-02-13</td>\n",
       "      <td>07:57:00</td>\n",
       "      <td>Travel | Comfort</td>\n",
       "      <td>22.72</td>\n",
       "      <td>46</td>\n",
       "      <td>Geral</td>\n",
       "      <td>74.95</td>\n",
       "    </tr>\n",
       "  </tbody>\n",
       "</table>\n",
       "</div>"
      ],
      "text/plain": [
       "  Data da solicitação (local) Hora da solicitação (local)           Serviço  \\\n",
       "0                  2020-01-18                    01:33:00    Travel | UberX   \n",
       "1                  2020-01-18                    11:19:00    Travel | UberX   \n",
       "2                  2020-02-12                    17:42:00      Travel | VIP   \n",
       "3                  2020-02-13                    04:49:00    Travel | UberX   \n",
       "4                  2020-02-13                    07:57:00  Travel | Comfort   \n",
       "\n",
       "  Distância (mi) Duração (min)      Grupo  \\\n",
       "0          10.18            21  Diretores   \n",
       "1           2.25            12         --   \n",
       "2           4.19            29         --   \n",
       "3          12.41            29      Geral   \n",
       "4          22.72            46      Geral   \n",
       "\n",
       "   Valor da transação em BRL (com tributos)  \n",
       "0                                     29.38  \n",
       "1                                      8.79  \n",
       "2                                     12.09  \n",
       "3                                     28.46  \n",
       "4                                     74.95  "
      ]
     },
     "execution_count": 3,
     "metadata": {},
     "output_type": "execute_result"
    }
   ],
   "source": [
    "df = pd.read_excel(r'C:\\Users\\arnon\\Documents\\Projetos\\Classificador Uber\\uber.xlsx')\n",
    "df.head()"
   ]
  },
  {
   "cell_type": "markdown",
   "metadata": {},
   "source": [
    "Renomeando as colunas para facilitar a manipulação dos dados:"
   ]
  },
  {
   "cell_type": "code",
   "execution_count": 4,
   "metadata": {},
   "outputs": [
    {
     "data": {
      "text/html": [
       "<div>\n",
       "<style scoped>\n",
       "    .dataframe tbody tr th:only-of-type {\n",
       "        vertical-align: middle;\n",
       "    }\n",
       "\n",
       "    .dataframe tbody tr th {\n",
       "        vertical-align: top;\n",
       "    }\n",
       "\n",
       "    .dataframe thead th {\n",
       "        text-align: right;\n",
       "    }\n",
       "</style>\n",
       "<table border=\"1\" class=\"dataframe\">\n",
       "  <thead>\n",
       "    <tr style=\"text-align: right;\">\n",
       "      <th></th>\n",
       "      <th>data_solicitacao</th>\n",
       "      <th>hora_solicitacao</th>\n",
       "      <th>categoria</th>\n",
       "      <th>distancia</th>\n",
       "      <th>duracao</th>\n",
       "      <th>grupo</th>\n",
       "      <th>preco</th>\n",
       "    </tr>\n",
       "  </thead>\n",
       "  <tbody>\n",
       "    <tr>\n",
       "      <th>0</th>\n",
       "      <td>2020-01-18</td>\n",
       "      <td>01:33:00</td>\n",
       "      <td>Travel | UberX</td>\n",
       "      <td>10.18</td>\n",
       "      <td>21</td>\n",
       "      <td>Diretores</td>\n",
       "      <td>29.38</td>\n",
       "    </tr>\n",
       "    <tr>\n",
       "      <th>1</th>\n",
       "      <td>2020-01-18</td>\n",
       "      <td>11:19:00</td>\n",
       "      <td>Travel | UberX</td>\n",
       "      <td>2.25</td>\n",
       "      <td>12</td>\n",
       "      <td>--</td>\n",
       "      <td>8.79</td>\n",
       "    </tr>\n",
       "    <tr>\n",
       "      <th>2</th>\n",
       "      <td>2020-02-12</td>\n",
       "      <td>17:42:00</td>\n",
       "      <td>Travel | VIP</td>\n",
       "      <td>4.19</td>\n",
       "      <td>29</td>\n",
       "      <td>--</td>\n",
       "      <td>12.09</td>\n",
       "    </tr>\n",
       "    <tr>\n",
       "      <th>3</th>\n",
       "      <td>2020-02-13</td>\n",
       "      <td>04:49:00</td>\n",
       "      <td>Travel | UberX</td>\n",
       "      <td>12.41</td>\n",
       "      <td>29</td>\n",
       "      <td>Geral</td>\n",
       "      <td>28.46</td>\n",
       "    </tr>\n",
       "    <tr>\n",
       "      <th>4</th>\n",
       "      <td>2020-02-13</td>\n",
       "      <td>07:57:00</td>\n",
       "      <td>Travel | Comfort</td>\n",
       "      <td>22.72</td>\n",
       "      <td>46</td>\n",
       "      <td>Geral</td>\n",
       "      <td>74.95</td>\n",
       "    </tr>\n",
       "  </tbody>\n",
       "</table>\n",
       "</div>"
      ],
      "text/plain": [
       "  data_solicitacao hora_solicitacao         categoria distancia duracao  \\\n",
       "0       2020-01-18         01:33:00    Travel | UberX     10.18      21   \n",
       "1       2020-01-18         11:19:00    Travel | UberX      2.25      12   \n",
       "2       2020-02-12         17:42:00      Travel | VIP      4.19      29   \n",
       "3       2020-02-13         04:49:00    Travel | UberX     12.41      29   \n",
       "4       2020-02-13         07:57:00  Travel | Comfort     22.72      46   \n",
       "\n",
       "       grupo  preco  \n",
       "0  Diretores  29.38  \n",
       "1         --   8.79  \n",
       "2         --  12.09  \n",
       "3      Geral  28.46  \n",
       "4      Geral  74.95  "
      ]
     },
     "execution_count": 4,
     "metadata": {},
     "output_type": "execute_result"
    }
   ],
   "source": [
    "df.rename(columns = {'Data da solicitação (local)': 'data_solicitacao',\n",
    "                    'Hora da solicitação (local)': 'hora_solicitacao', 'Serviço': 'categoria',\n",
    "                    'Distância (mi)': 'distancia', 'Duração (min)': 'duracao', 'Grupo': 'grupo', \n",
    "                    'Valor da transação em BRL (com tributos)': 'preco'}, inplace = True)\n",
    "df.head()"
   ]
  },
  {
   "cell_type": "markdown",
   "metadata": {},
   "source": [
    "Com o banco carregado, é interessante fazer uma rápida descrição dos dados:\n",
    "\n",
    "* __data_solicitacao__: data de solicitação do serviço de acordo com o fuso horário local\n",
    "* __hora_solicitacao__: hora de solicitação do serviço de acordo com o fuso horário local\n",
    "* __categoria__: categoria do uber\n",
    "* __distancia__: distância percorrida na corrida [mi]\n",
    "* __duracao__: duração da corrida [min]\n",
    "* __grupo__: grupo do colaborador (\"diretores\" ou \"geral\")\n",
    "* __preco__: valor da corrida [R$]"
   ]
  },
  {
   "cell_type": "markdown",
   "metadata": {},
   "source": [
    "## 2. Preparando os Dados"
   ]
  },
  {
   "cell_type": "markdown",
   "metadata": {},
   "source": [
    "Antes de qualquer preparo, é essencial levantar algumas informações básicas do dataframe."
   ]
  },
  {
   "cell_type": "markdown",
   "metadata": {},
   "source": [
    "Tamanho do dataset:"
   ]
  },
  {
   "cell_type": "code",
   "execution_count": 5,
   "metadata": {},
   "outputs": [
    {
     "data": {
      "text/plain": [
       "(43642, 7)"
      ]
     },
     "execution_count": 5,
     "metadata": {},
     "output_type": "execute_result"
    }
   ],
   "source": [
    "df.shape"
   ]
  },
  {
   "cell_type": "markdown",
   "metadata": {},
   "source": [
    "Quantidade de nulos:"
   ]
  },
  {
   "cell_type": "code",
   "execution_count": 6,
   "metadata": {},
   "outputs": [
    {
     "data": {
      "text/plain": [
       "data_solicitacao    0\n",
       "hora_solicitacao    0\n",
       "categoria           0\n",
       "distancia           0\n",
       "duracao             0\n",
       "grupo               0\n",
       "preco               0\n",
       "dtype: int64"
      ]
     },
     "execution_count": 6,
     "metadata": {},
     "output_type": "execute_result"
    }
   ],
   "source": [
    "df.isna().sum()"
   ]
  },
  {
   "cell_type": "markdown",
   "metadata": {},
   "source": [
    "Tipo dos dados:"
   ]
  },
  {
   "cell_type": "code",
   "execution_count": 7,
   "metadata": {},
   "outputs": [
    {
     "name": "stdout",
     "output_type": "stream",
     "text": [
      "<class 'pandas.core.frame.DataFrame'>\n",
      "RangeIndex: 43642 entries, 0 to 43641\n",
      "Data columns (total 7 columns):\n",
      " #   Column            Non-Null Count  Dtype         \n",
      "---  ------            --------------  -----         \n",
      " 0   data_solicitacao  43642 non-null  datetime64[ns]\n",
      " 1   hora_solicitacao  43642 non-null  object        \n",
      " 2   categoria         43642 non-null  object        \n",
      " 3   distancia         43642 non-null  object        \n",
      " 4   duracao           43642 non-null  object        \n",
      " 5   grupo             43642 non-null  object        \n",
      " 6   preco             43642 non-null  float64       \n",
      "dtypes: datetime64[ns](1), float64(1), object(5)\n",
      "memory usage: 2.3+ MB\n"
     ]
    }
   ],
   "source": [
    "df.info()"
   ]
  },
  {
   "cell_type": "markdown",
   "metadata": {},
   "source": [
    "Na célula anterior, é possível observar que o tipo de dados de algumas colunas retornou diferente do esperado. Dessa forma, faremos algumas manipulações no banco para resolver essa questão."
   ]
  },
  {
   "cell_type": "markdown",
   "metadata": {},
   "source": [
    "Convertendo a coluna de distância em decimal:"
   ]
  },
  {
   "cell_type": "code",
   "execution_count": 8,
   "metadata": {},
   "outputs": [],
   "source": [
    "# df['distancia'] = df['distancia'].astype(float)"
   ]
  },
  {
   "cell_type": "markdown",
   "metadata": {},
   "source": [
    "O erro do comando anterior indica que existe algum registro estranho na coluna \"distancia\". Assim, primeiro será necessário lidar com esse erro."
   ]
  },
  {
   "cell_type": "markdown",
   "metadata": {},
   "source": [
    "Verificando a representatividade dais linhas com erro em relação a amostra de dados:"
   ]
  },
  {
   "cell_type": "code",
   "execution_count": 9,
   "metadata": {},
   "outputs": [
    {
     "name": "stdout",
     "output_type": "stream",
     "text": [
      "1.3633655652811512 %\n"
     ]
    }
   ],
   "source": [
    "print(df[df['distancia'] == \"--\"].shape[0]*100/df.shape[0],'%')"
   ]
  },
  {
   "cell_type": "markdown",
   "metadata": {},
   "source": [
    "Como a quantidade de linhas com entradas ruins representa uma parcela muito pequena da amostra, iremos descartar esses dados:"
   ]
  },
  {
   "cell_type": "code",
   "execution_count": 10,
   "metadata": {},
   "outputs": [],
   "source": [
    "df.drop(df[df['distancia'] == \"--\"].index, inplace = True)"
   ]
  },
  {
   "cell_type": "markdown",
   "metadata": {},
   "source": [
    "Verificando o resultado no tamanho do banco de dados:"
   ]
  },
  {
   "cell_type": "code",
   "execution_count": 11,
   "metadata": {},
   "outputs": [
    {
     "data": {
      "text/plain": [
       "(43047, 7)"
      ]
     },
     "execution_count": 11,
     "metadata": {},
     "output_type": "execute_result"
    }
   ],
   "source": [
    "df.shape"
   ]
  },
  {
   "cell_type": "markdown",
   "metadata": {},
   "source": [
    "Executando novamente o comando de conversão para a coluna \"distancia\":"
   ]
  },
  {
   "cell_type": "code",
   "execution_count": 12,
   "metadata": {},
   "outputs": [],
   "source": [
    "df['distancia'] = df['distancia'].astype(float)"
   ]
  },
  {
   "cell_type": "markdown",
   "metadata": {},
   "source": [
    "Convertendo a coluna de \"duração\" para inteiro:"
   ]
  },
  {
   "cell_type": "code",
   "execution_count": 13,
   "metadata": {},
   "outputs": [],
   "source": [
    "df['duracao'] = df['duracao'].astype(int)"
   ]
  },
  {
   "cell_type": "markdown",
   "metadata": {},
   "source": [
    "No resultado do comando \"head\" realizado anteriormente, é possível notar que a coluna \"grupo\" também possui valores que devemos tratar. Novamente, vamos verificar a representatividade dessa massa:"
   ]
  },
  {
   "cell_type": "code",
   "execution_count": 14,
   "metadata": {},
   "outputs": [
    {
     "name": "stdout",
     "output_type": "stream",
     "text": [
      "18.600599344902083 %\n"
     ]
    }
   ],
   "source": [
    "print(df[(df['grupo'] != 'Geral') & (df['grupo'] != 'Diretores')].shape[0]*100/df.shape[0],'%')"
   ]
  },
  {
   "cell_type": "markdown",
   "metadata": {},
   "source": [
    "Como o percentual de ocorrências discriminado acima é muito elevado, iremos supor que o \"grupo\" dessas entradas é \"Geral\": "
   ]
  },
  {
   "cell_type": "code",
   "execution_count": 15,
   "metadata": {},
   "outputs": [],
   "source": [
    "df['grupo'] = df['grupo'].replace('--', 'Geral')"
   ]
  },
  {
   "cell_type": "markdown",
   "metadata": {},
   "source": [
    "Por fim, só nos resta consertar o tipo de variável da coluna \"hora_solicitacao\". No entanto, considerando o contexto do projeto em questão, iremos dispensar o impacto da hora da solicitação e deixar essa análise para uma futura versão do código."
   ]
  },
  {
   "cell_type": "code",
   "execution_count": 16,
   "metadata": {},
   "outputs": [],
   "source": [
    "df.drop(columns = 'hora_solicitacao', inplace = True)"
   ]
  },
  {
   "cell_type": "markdown",
   "metadata": {},
   "source": [
    "Verificando o resultado final:"
   ]
  },
  {
   "cell_type": "code",
   "execution_count": 17,
   "metadata": {},
   "outputs": [
    {
     "data": {
      "text/html": [
       "<div>\n",
       "<style scoped>\n",
       "    .dataframe tbody tr th:only-of-type {\n",
       "        vertical-align: middle;\n",
       "    }\n",
       "\n",
       "    .dataframe tbody tr th {\n",
       "        vertical-align: top;\n",
       "    }\n",
       "\n",
       "    .dataframe thead th {\n",
       "        text-align: right;\n",
       "    }\n",
       "</style>\n",
       "<table border=\"1\" class=\"dataframe\">\n",
       "  <thead>\n",
       "    <tr style=\"text-align: right;\">\n",
       "      <th></th>\n",
       "      <th>data_solicitacao</th>\n",
       "      <th>categoria</th>\n",
       "      <th>distancia</th>\n",
       "      <th>duracao</th>\n",
       "      <th>grupo</th>\n",
       "      <th>preco</th>\n",
       "    </tr>\n",
       "  </thead>\n",
       "  <tbody>\n",
       "    <tr>\n",
       "      <th>0</th>\n",
       "      <td>2020-01-18</td>\n",
       "      <td>Travel | UberX</td>\n",
       "      <td>10.18</td>\n",
       "      <td>21</td>\n",
       "      <td>Diretores</td>\n",
       "      <td>29.38</td>\n",
       "    </tr>\n",
       "    <tr>\n",
       "      <th>1</th>\n",
       "      <td>2020-01-18</td>\n",
       "      <td>Travel | UberX</td>\n",
       "      <td>2.25</td>\n",
       "      <td>12</td>\n",
       "      <td>Geral</td>\n",
       "      <td>8.79</td>\n",
       "    </tr>\n",
       "    <tr>\n",
       "      <th>2</th>\n",
       "      <td>2020-02-12</td>\n",
       "      <td>Travel | VIP</td>\n",
       "      <td>4.19</td>\n",
       "      <td>29</td>\n",
       "      <td>Geral</td>\n",
       "      <td>12.09</td>\n",
       "    </tr>\n",
       "    <tr>\n",
       "      <th>3</th>\n",
       "      <td>2020-02-13</td>\n",
       "      <td>Travel | UberX</td>\n",
       "      <td>12.41</td>\n",
       "      <td>29</td>\n",
       "      <td>Geral</td>\n",
       "      <td>28.46</td>\n",
       "    </tr>\n",
       "    <tr>\n",
       "      <th>4</th>\n",
       "      <td>2020-02-13</td>\n",
       "      <td>Travel | Comfort</td>\n",
       "      <td>22.72</td>\n",
       "      <td>46</td>\n",
       "      <td>Geral</td>\n",
       "      <td>74.95</td>\n",
       "    </tr>\n",
       "  </tbody>\n",
       "</table>\n",
       "</div>"
      ],
      "text/plain": [
       "  data_solicitacao         categoria  distancia  duracao      grupo  preco\n",
       "0       2020-01-18    Travel | UberX      10.18       21  Diretores  29.38\n",
       "1       2020-01-18    Travel | UberX       2.25       12      Geral   8.79\n",
       "2       2020-02-12      Travel | VIP       4.19       29      Geral  12.09\n",
       "3       2020-02-13    Travel | UberX      12.41       29      Geral  28.46\n",
       "4       2020-02-13  Travel | Comfort      22.72       46      Geral  74.95"
      ]
     },
     "execution_count": 17,
     "metadata": {},
     "output_type": "execute_result"
    }
   ],
   "source": [
    "df.head()"
   ]
  },
  {
   "cell_type": "markdown",
   "metadata": {},
   "source": [
    "## 3. Enriquecendo os Dados"
   ]
  },
  {
   "cell_type": "markdown",
   "metadata": {},
   "source": [
    "Como não iremos incluir nenhuma informação relativa a feriados, é mais interessante ter as datas em dias da semana do que em formato corrido:"
   ]
  },
  {
   "cell_type": "code",
   "execution_count": 18,
   "metadata": {},
   "outputs": [
    {
     "data": {
      "text/html": [
       "<div>\n",
       "<style scoped>\n",
       "    .dataframe tbody tr th:only-of-type {\n",
       "        vertical-align: middle;\n",
       "    }\n",
       "\n",
       "    .dataframe tbody tr th {\n",
       "        vertical-align: top;\n",
       "    }\n",
       "\n",
       "    .dataframe thead th {\n",
       "        text-align: right;\n",
       "    }\n",
       "</style>\n",
       "<table border=\"1\" class=\"dataframe\">\n",
       "  <thead>\n",
       "    <tr style=\"text-align: right;\">\n",
       "      <th></th>\n",
       "      <th>data_solicitacao</th>\n",
       "      <th>categoria</th>\n",
       "      <th>distancia</th>\n",
       "      <th>duracao</th>\n",
       "      <th>grupo</th>\n",
       "      <th>preco</th>\n",
       "      <th>dia_semana</th>\n",
       "    </tr>\n",
       "  </thead>\n",
       "  <tbody>\n",
       "    <tr>\n",
       "      <th>0</th>\n",
       "      <td>2020-01-18</td>\n",
       "      <td>Travel | UberX</td>\n",
       "      <td>10.18</td>\n",
       "      <td>21</td>\n",
       "      <td>Diretores</td>\n",
       "      <td>29.38</td>\n",
       "      <td>Saturday</td>\n",
       "    </tr>\n",
       "    <tr>\n",
       "      <th>1</th>\n",
       "      <td>2020-01-18</td>\n",
       "      <td>Travel | UberX</td>\n",
       "      <td>2.25</td>\n",
       "      <td>12</td>\n",
       "      <td>Geral</td>\n",
       "      <td>8.79</td>\n",
       "      <td>Saturday</td>\n",
       "    </tr>\n",
       "    <tr>\n",
       "      <th>2</th>\n",
       "      <td>2020-02-12</td>\n",
       "      <td>Travel | VIP</td>\n",
       "      <td>4.19</td>\n",
       "      <td>29</td>\n",
       "      <td>Geral</td>\n",
       "      <td>12.09</td>\n",
       "      <td>Wednesday</td>\n",
       "    </tr>\n",
       "    <tr>\n",
       "      <th>3</th>\n",
       "      <td>2020-02-13</td>\n",
       "      <td>Travel | UberX</td>\n",
       "      <td>12.41</td>\n",
       "      <td>29</td>\n",
       "      <td>Geral</td>\n",
       "      <td>28.46</td>\n",
       "      <td>Thursday</td>\n",
       "    </tr>\n",
       "    <tr>\n",
       "      <th>4</th>\n",
       "      <td>2020-02-13</td>\n",
       "      <td>Travel | Comfort</td>\n",
       "      <td>22.72</td>\n",
       "      <td>46</td>\n",
       "      <td>Geral</td>\n",
       "      <td>74.95</td>\n",
       "      <td>Thursday</td>\n",
       "    </tr>\n",
       "  </tbody>\n",
       "</table>\n",
       "</div>"
      ],
      "text/plain": [
       "  data_solicitacao         categoria  distancia  duracao      grupo  preco  \\\n",
       "0       2020-01-18    Travel | UberX      10.18       21  Diretores  29.38   \n",
       "1       2020-01-18    Travel | UberX       2.25       12      Geral   8.79   \n",
       "2       2020-02-12      Travel | VIP       4.19       29      Geral  12.09   \n",
       "3       2020-02-13    Travel | UberX      12.41       29      Geral  28.46   \n",
       "4       2020-02-13  Travel | Comfort      22.72       46      Geral  74.95   \n",
       "\n",
       "  dia_semana  \n",
       "0   Saturday  \n",
       "1   Saturday  \n",
       "2  Wednesday  \n",
       "3   Thursday  \n",
       "4   Thursday  "
      ]
     },
     "execution_count": 18,
     "metadata": {},
     "output_type": "execute_result"
    }
   ],
   "source": [
    "df['dia_semana'] = df['data_solicitacao'].dt.day_name()\n",
    "df.head()"
   ]
  },
  {
   "cell_type": "markdown",
   "metadata": {},
   "source": [
    "Excluindo a coluna \"data_solicitacao\":"
   ]
  },
  {
   "cell_type": "code",
   "execution_count": 19,
   "metadata": {},
   "outputs": [
    {
     "data": {
      "text/html": [
       "<div>\n",
       "<style scoped>\n",
       "    .dataframe tbody tr th:only-of-type {\n",
       "        vertical-align: middle;\n",
       "    }\n",
       "\n",
       "    .dataframe tbody tr th {\n",
       "        vertical-align: top;\n",
       "    }\n",
       "\n",
       "    .dataframe thead th {\n",
       "        text-align: right;\n",
       "    }\n",
       "</style>\n",
       "<table border=\"1\" class=\"dataframe\">\n",
       "  <thead>\n",
       "    <tr style=\"text-align: right;\">\n",
       "      <th></th>\n",
       "      <th>categoria</th>\n",
       "      <th>distancia</th>\n",
       "      <th>duracao</th>\n",
       "      <th>grupo</th>\n",
       "      <th>preco</th>\n",
       "      <th>dia_semana</th>\n",
       "    </tr>\n",
       "  </thead>\n",
       "  <tbody>\n",
       "    <tr>\n",
       "      <th>0</th>\n",
       "      <td>Travel | UberX</td>\n",
       "      <td>10.18</td>\n",
       "      <td>21</td>\n",
       "      <td>Diretores</td>\n",
       "      <td>29.38</td>\n",
       "      <td>Saturday</td>\n",
       "    </tr>\n",
       "    <tr>\n",
       "      <th>1</th>\n",
       "      <td>Travel | UberX</td>\n",
       "      <td>2.25</td>\n",
       "      <td>12</td>\n",
       "      <td>Geral</td>\n",
       "      <td>8.79</td>\n",
       "      <td>Saturday</td>\n",
       "    </tr>\n",
       "    <tr>\n",
       "      <th>2</th>\n",
       "      <td>Travel | VIP</td>\n",
       "      <td>4.19</td>\n",
       "      <td>29</td>\n",
       "      <td>Geral</td>\n",
       "      <td>12.09</td>\n",
       "      <td>Wednesday</td>\n",
       "    </tr>\n",
       "    <tr>\n",
       "      <th>3</th>\n",
       "      <td>Travel | UberX</td>\n",
       "      <td>12.41</td>\n",
       "      <td>29</td>\n",
       "      <td>Geral</td>\n",
       "      <td>28.46</td>\n",
       "      <td>Thursday</td>\n",
       "    </tr>\n",
       "    <tr>\n",
       "      <th>4</th>\n",
       "      <td>Travel | Comfort</td>\n",
       "      <td>22.72</td>\n",
       "      <td>46</td>\n",
       "      <td>Geral</td>\n",
       "      <td>74.95</td>\n",
       "      <td>Thursday</td>\n",
       "    </tr>\n",
       "  </tbody>\n",
       "</table>\n",
       "</div>"
      ],
      "text/plain": [
       "          categoria  distancia  duracao      grupo  preco dia_semana\n",
       "0    Travel | UberX      10.18       21  Diretores  29.38   Saturday\n",
       "1    Travel | UberX       2.25       12      Geral   8.79   Saturday\n",
       "2      Travel | VIP       4.19       29      Geral  12.09  Wednesday\n",
       "3    Travel | UberX      12.41       29      Geral  28.46   Thursday\n",
       "4  Travel | Comfort      22.72       46      Geral  74.95   Thursday"
      ]
     },
     "execution_count": 19,
     "metadata": {},
     "output_type": "execute_result"
    }
   ],
   "source": [
    "df.drop(columns = 'data_solicitacao', inplace = True)\n",
    "df.head()"
   ]
  },
  {
   "cell_type": "markdown",
   "metadata": {},
   "source": [
    "Considerando também que o maior diferencial entre as categorias do Uber é o ticket médio [R$ / mi], vamos criar essa variável"
   ]
  },
  {
   "cell_type": "code",
   "execution_count": 20,
   "metadata": {},
   "outputs": [
    {
     "data": {
      "text/html": [
       "<div>\n",
       "<style scoped>\n",
       "    .dataframe tbody tr th:only-of-type {\n",
       "        vertical-align: middle;\n",
       "    }\n",
       "\n",
       "    .dataframe tbody tr th {\n",
       "        vertical-align: top;\n",
       "    }\n",
       "\n",
       "    .dataframe thead th {\n",
       "        text-align: right;\n",
       "    }\n",
       "</style>\n",
       "<table border=\"1\" class=\"dataframe\">\n",
       "  <thead>\n",
       "    <tr style=\"text-align: right;\">\n",
       "      <th></th>\n",
       "      <th>categoria</th>\n",
       "      <th>distancia</th>\n",
       "      <th>duracao</th>\n",
       "      <th>grupo</th>\n",
       "      <th>preco</th>\n",
       "      <th>dia_semana</th>\n",
       "      <th>ticket_medio</th>\n",
       "    </tr>\n",
       "  </thead>\n",
       "  <tbody>\n",
       "    <tr>\n",
       "      <th>0</th>\n",
       "      <td>Travel | UberX</td>\n",
       "      <td>10.18</td>\n",
       "      <td>21</td>\n",
       "      <td>Diretores</td>\n",
       "      <td>29.38</td>\n",
       "      <td>Saturday</td>\n",
       "      <td>2.886051</td>\n",
       "    </tr>\n",
       "    <tr>\n",
       "      <th>1</th>\n",
       "      <td>Travel | UberX</td>\n",
       "      <td>2.25</td>\n",
       "      <td>12</td>\n",
       "      <td>Geral</td>\n",
       "      <td>8.79</td>\n",
       "      <td>Saturday</td>\n",
       "      <td>3.906667</td>\n",
       "    </tr>\n",
       "    <tr>\n",
       "      <th>2</th>\n",
       "      <td>Travel | VIP</td>\n",
       "      <td>4.19</td>\n",
       "      <td>29</td>\n",
       "      <td>Geral</td>\n",
       "      <td>12.09</td>\n",
       "      <td>Wednesday</td>\n",
       "      <td>2.885442</td>\n",
       "    </tr>\n",
       "    <tr>\n",
       "      <th>3</th>\n",
       "      <td>Travel | UberX</td>\n",
       "      <td>12.41</td>\n",
       "      <td>29</td>\n",
       "      <td>Geral</td>\n",
       "      <td>28.46</td>\n",
       "      <td>Thursday</td>\n",
       "      <td>2.293312</td>\n",
       "    </tr>\n",
       "    <tr>\n",
       "      <th>4</th>\n",
       "      <td>Travel | Comfort</td>\n",
       "      <td>22.72</td>\n",
       "      <td>46</td>\n",
       "      <td>Geral</td>\n",
       "      <td>74.95</td>\n",
       "      <td>Thursday</td>\n",
       "      <td>3.298856</td>\n",
       "    </tr>\n",
       "  </tbody>\n",
       "</table>\n",
       "</div>"
      ],
      "text/plain": [
       "          categoria  distancia  duracao      grupo  preco dia_semana  \\\n",
       "0    Travel | UberX      10.18       21  Diretores  29.38   Saturday   \n",
       "1    Travel | UberX       2.25       12      Geral   8.79   Saturday   \n",
       "2      Travel | VIP       4.19       29      Geral  12.09  Wednesday   \n",
       "3    Travel | UberX      12.41       29      Geral  28.46   Thursday   \n",
       "4  Travel | Comfort      22.72       46      Geral  74.95   Thursday   \n",
       "\n",
       "   ticket_medio  \n",
       "0      2.886051  \n",
       "1      3.906667  \n",
       "2      2.885442  \n",
       "3      2.293312  \n",
       "4      3.298856  "
      ]
     },
     "execution_count": 20,
     "metadata": {},
     "output_type": "execute_result"
    }
   ],
   "source": [
    "df['ticket_medio'] = df['preco'] / df['distancia']\n",
    "df.head()"
   ]
  },
  {
   "cell_type": "markdown",
   "metadata": {},
   "source": [
    "Antes de excluirmos as colunas \"preco\" e \"distancia\", é importante passarmos pela etapa de \"análise dos dados\" para verificar a integridade da coluna \"ticket_medio\" criada."
   ]
  },
  {
   "cell_type": "markdown",
   "metadata": {},
   "source": [
    "## 4. Analisando os Dados"
   ]
  },
  {
   "cell_type": "markdown",
   "metadata": {},
   "source": [
    "Começaremos essa etapa com uma análise descritiva dos dados numéricos:"
   ]
  },
  {
   "cell_type": "code",
   "execution_count": 21,
   "metadata": {},
   "outputs": [
    {
     "data": {
      "text/html": [
       "<div>\n",
       "<style scoped>\n",
       "    .dataframe tbody tr th:only-of-type {\n",
       "        vertical-align: middle;\n",
       "    }\n",
       "\n",
       "    .dataframe tbody tr th {\n",
       "        vertical-align: top;\n",
       "    }\n",
       "\n",
       "    .dataframe thead th {\n",
       "        text-align: right;\n",
       "    }\n",
       "</style>\n",
       "<table border=\"1\" class=\"dataframe\">\n",
       "  <thead>\n",
       "    <tr style=\"text-align: right;\">\n",
       "      <th></th>\n",
       "      <th>distancia</th>\n",
       "      <th>duracao</th>\n",
       "      <th>preco</th>\n",
       "      <th>ticket_medio</th>\n",
       "    </tr>\n",
       "  </thead>\n",
       "  <tbody>\n",
       "    <tr>\n",
       "      <th>count</th>\n",
       "      <td>43047.000000</td>\n",
       "      <td>43047.000000</td>\n",
       "      <td>43047.000000</td>\n",
       "      <td>4.304700e+04</td>\n",
       "    </tr>\n",
       "    <tr>\n",
       "      <th>mean</th>\n",
       "      <td>9.244175</td>\n",
       "      <td>26.328385</td>\n",
       "      <td>33.714128</td>\n",
       "      <td>inf</td>\n",
       "    </tr>\n",
       "    <tr>\n",
       "      <th>std</th>\n",
       "      <td>8.813901</td>\n",
       "      <td>20.490758</td>\n",
       "      <td>30.632266</td>\n",
       "      <td>NaN</td>\n",
       "    </tr>\n",
       "    <tr>\n",
       "      <th>min</th>\n",
       "      <td>0.000000</td>\n",
       "      <td>0.000000</td>\n",
       "      <td>3.950000</td>\n",
       "      <td>5.571587e-01</td>\n",
       "    </tr>\n",
       "    <tr>\n",
       "      <th>25%</th>\n",
       "      <td>3.300000</td>\n",
       "      <td>13.000000</td>\n",
       "      <td>15.230000</td>\n",
       "      <td>2.901199e+00</td>\n",
       "    </tr>\n",
       "    <tr>\n",
       "      <th>50%</th>\n",
       "      <td>6.910000</td>\n",
       "      <td>21.000000</td>\n",
       "      <td>24.920000</td>\n",
       "      <td>3.776786e+00</td>\n",
       "    </tr>\n",
       "    <tr>\n",
       "      <th>75%</th>\n",
       "      <td>12.100000</td>\n",
       "      <td>34.000000</td>\n",
       "      <td>41.030000</td>\n",
       "      <td>5.404336e+00</td>\n",
       "    </tr>\n",
       "    <tr>\n",
       "      <th>max</th>\n",
       "      <td>136.550000</td>\n",
       "      <td>447.000000</td>\n",
       "      <td>573.810000</td>\n",
       "      <td>inf</td>\n",
       "    </tr>\n",
       "  </tbody>\n",
       "</table>\n",
       "</div>"
      ],
      "text/plain": [
       "          distancia       duracao         preco  ticket_medio\n",
       "count  43047.000000  43047.000000  43047.000000  4.304700e+04\n",
       "mean       9.244175     26.328385     33.714128           inf\n",
       "std        8.813901     20.490758     30.632266           NaN\n",
       "min        0.000000      0.000000      3.950000  5.571587e-01\n",
       "25%        3.300000     13.000000     15.230000  2.901199e+00\n",
       "50%        6.910000     21.000000     24.920000  3.776786e+00\n",
       "75%       12.100000     34.000000     41.030000  5.404336e+00\n",
       "max      136.550000    447.000000    573.810000           inf"
      ]
     },
     "execution_count": 21,
     "metadata": {},
     "output_type": "execute_result"
    }
   ],
   "source": [
    "df.describe()"
   ]
  },
  {
   "cell_type": "markdown",
   "metadata": {},
   "source": [
    "Pelo retorno anterior, podemos ver a ocorrência de dois problemas: _outliers_ na massa de dados e valores originais prejudicando a variável calculada \"ticket_medio\"."
   ]
  },
  {
   "cell_type": "markdown",
   "metadata": {},
   "source": [
    "Começando pelo dado \"ticket_medio\", iremos verificar a ocorrências de distâncias nulas que retornam valores \"inf\" para a métrica calculada:"
   ]
  },
  {
   "cell_type": "code",
   "execution_count": 22,
   "metadata": {},
   "outputs": [
    {
     "data": {
      "text/html": [
       "<div>\n",
       "<style scoped>\n",
       "    .dataframe tbody tr th:only-of-type {\n",
       "        vertical-align: middle;\n",
       "    }\n",
       "\n",
       "    .dataframe tbody tr th {\n",
       "        vertical-align: top;\n",
       "    }\n",
       "\n",
       "    .dataframe thead th {\n",
       "        text-align: right;\n",
       "    }\n",
       "</style>\n",
       "<table border=\"1\" class=\"dataframe\">\n",
       "  <thead>\n",
       "    <tr style=\"text-align: right;\">\n",
       "      <th></th>\n",
       "      <th>categoria</th>\n",
       "      <th>distancia</th>\n",
       "      <th>duracao</th>\n",
       "      <th>grupo</th>\n",
       "      <th>preco</th>\n",
       "      <th>dia_semana</th>\n",
       "      <th>ticket_medio</th>\n",
       "    </tr>\n",
       "  </thead>\n",
       "  <tbody>\n",
       "    <tr>\n",
       "      <th>893</th>\n",
       "      <td>Travel | UberX</td>\n",
       "      <td>0.0</td>\n",
       "      <td>0</td>\n",
       "      <td>Geral</td>\n",
       "      <td>9.00</td>\n",
       "      <td>Thursday</td>\n",
       "      <td>inf</td>\n",
       "    </tr>\n",
       "    <tr>\n",
       "      <th>894</th>\n",
       "      <td>Travel | UberX</td>\n",
       "      <td>0.0</td>\n",
       "      <td>0</td>\n",
       "      <td>Geral</td>\n",
       "      <td>9.00</td>\n",
       "      <td>Thursday</td>\n",
       "      <td>inf</td>\n",
       "    </tr>\n",
       "    <tr>\n",
       "      <th>2334</th>\n",
       "      <td>Travel | UberX</td>\n",
       "      <td>0.0</td>\n",
       "      <td>1</td>\n",
       "      <td>Geral</td>\n",
       "      <td>9.32</td>\n",
       "      <td>Thursday</td>\n",
       "      <td>inf</td>\n",
       "    </tr>\n",
       "    <tr>\n",
       "      <th>2535</th>\n",
       "      <td>Travel | UberX</td>\n",
       "      <td>0.0</td>\n",
       "      <td>5</td>\n",
       "      <td>Geral</td>\n",
       "      <td>5.35</td>\n",
       "      <td>Thursday</td>\n",
       "      <td>inf</td>\n",
       "    </tr>\n",
       "    <tr>\n",
       "      <th>3853</th>\n",
       "      <td>Travel | UberX</td>\n",
       "      <td>0.0</td>\n",
       "      <td>0</td>\n",
       "      <td>Geral</td>\n",
       "      <td>7.36</td>\n",
       "      <td>Friday</td>\n",
       "      <td>inf</td>\n",
       "    </tr>\n",
       "    <tr>\n",
       "      <th>11471</th>\n",
       "      <td>Travel | UberX</td>\n",
       "      <td>0.0</td>\n",
       "      <td>0</td>\n",
       "      <td>Geral</td>\n",
       "      <td>22.77</td>\n",
       "      <td>Monday</td>\n",
       "      <td>inf</td>\n",
       "    </tr>\n",
       "    <tr>\n",
       "      <th>34792</th>\n",
       "      <td>Travel | UberX</td>\n",
       "      <td>0.0</td>\n",
       "      <td>3</td>\n",
       "      <td>Geral</td>\n",
       "      <td>24.93</td>\n",
       "      <td>Thursday</td>\n",
       "      <td>inf</td>\n",
       "    </tr>\n",
       "    <tr>\n",
       "      <th>37136</th>\n",
       "      <td>Travel | Comfort</td>\n",
       "      <td>0.0</td>\n",
       "      <td>0</td>\n",
       "      <td>Geral</td>\n",
       "      <td>10.74</td>\n",
       "      <td>Monday</td>\n",
       "      <td>inf</td>\n",
       "    </tr>\n",
       "    <tr>\n",
       "      <th>37231</th>\n",
       "      <td>Travel | UberX</td>\n",
       "      <td>0.0</td>\n",
       "      <td>36</td>\n",
       "      <td>Geral</td>\n",
       "      <td>19.15</td>\n",
       "      <td>Tuesday</td>\n",
       "      <td>inf</td>\n",
       "    </tr>\n",
       "    <tr>\n",
       "      <th>37295</th>\n",
       "      <td>Travel | UberX</td>\n",
       "      <td>0.0</td>\n",
       "      <td>36</td>\n",
       "      <td>Geral</td>\n",
       "      <td>28.84</td>\n",
       "      <td>Tuesday</td>\n",
       "      <td>inf</td>\n",
       "    </tr>\n",
       "    <tr>\n",
       "      <th>41848</th>\n",
       "      <td>Travel | UberX</td>\n",
       "      <td>0.0</td>\n",
       "      <td>0</td>\n",
       "      <td>Geral</td>\n",
       "      <td>7.48</td>\n",
       "      <td>Friday</td>\n",
       "      <td>inf</td>\n",
       "    </tr>\n",
       "  </tbody>\n",
       "</table>\n",
       "</div>"
      ],
      "text/plain": [
       "              categoria  distancia  duracao  grupo  preco dia_semana  \\\n",
       "893      Travel | UberX        0.0        0  Geral   9.00   Thursday   \n",
       "894      Travel | UberX        0.0        0  Geral   9.00   Thursday   \n",
       "2334     Travel | UberX        0.0        1  Geral   9.32   Thursday   \n",
       "2535     Travel | UberX        0.0        5  Geral   5.35   Thursday   \n",
       "3853     Travel | UberX        0.0        0  Geral   7.36     Friday   \n",
       "11471    Travel | UberX        0.0        0  Geral  22.77     Monday   \n",
       "34792    Travel | UberX        0.0        3  Geral  24.93   Thursday   \n",
       "37136  Travel | Comfort        0.0        0  Geral  10.74     Monday   \n",
       "37231    Travel | UberX        0.0       36  Geral  19.15    Tuesday   \n",
       "37295    Travel | UberX        0.0       36  Geral  28.84    Tuesday   \n",
       "41848    Travel | UberX        0.0        0  Geral   7.48     Friday   \n",
       "\n",
       "       ticket_medio  \n",
       "893             inf  \n",
       "894             inf  \n",
       "2334            inf  \n",
       "2535            inf  \n",
       "3853            inf  \n",
       "11471           inf  \n",
       "34792           inf  \n",
       "37136           inf  \n",
       "37231           inf  \n",
       "37295           inf  \n",
       "41848           inf  "
      ]
     },
     "execution_count": 22,
     "metadata": {},
     "output_type": "execute_result"
    }
   ],
   "source": [
    "df[df['distancia'] == 0]"
   ]
  },
  {
   "cell_type": "markdown",
   "metadata": {},
   "source": [
    "Confirmamos nossa teoria e, para o projeto em questão, excluiremos essas entradas:"
   ]
  },
  {
   "cell_type": "code",
   "execution_count": 23,
   "metadata": {},
   "outputs": [],
   "source": [
    "df.drop(df[df['distancia'] == 0].index, inplace = True)"
   ]
  },
  {
   "cell_type": "markdown",
   "metadata": {},
   "source": [
    "E, agora, podemos excluir as colunas \"distancia\" e \"preço\":"
   ]
  },
  {
   "cell_type": "code",
   "execution_count": 24,
   "metadata": {},
   "outputs": [
    {
     "data": {
      "text/html": [
       "<div>\n",
       "<style scoped>\n",
       "    .dataframe tbody tr th:only-of-type {\n",
       "        vertical-align: middle;\n",
       "    }\n",
       "\n",
       "    .dataframe tbody tr th {\n",
       "        vertical-align: top;\n",
       "    }\n",
       "\n",
       "    .dataframe thead th {\n",
       "        text-align: right;\n",
       "    }\n",
       "</style>\n",
       "<table border=\"1\" class=\"dataframe\">\n",
       "  <thead>\n",
       "    <tr style=\"text-align: right;\">\n",
       "      <th></th>\n",
       "      <th>categoria</th>\n",
       "      <th>duracao</th>\n",
       "      <th>grupo</th>\n",
       "      <th>dia_semana</th>\n",
       "      <th>ticket_medio</th>\n",
       "    </tr>\n",
       "  </thead>\n",
       "  <tbody>\n",
       "    <tr>\n",
       "      <th>0</th>\n",
       "      <td>Travel | UberX</td>\n",
       "      <td>21</td>\n",
       "      <td>Diretores</td>\n",
       "      <td>Saturday</td>\n",
       "      <td>2.886051</td>\n",
       "    </tr>\n",
       "    <tr>\n",
       "      <th>1</th>\n",
       "      <td>Travel | UberX</td>\n",
       "      <td>12</td>\n",
       "      <td>Geral</td>\n",
       "      <td>Saturday</td>\n",
       "      <td>3.906667</td>\n",
       "    </tr>\n",
       "    <tr>\n",
       "      <th>2</th>\n",
       "      <td>Travel | VIP</td>\n",
       "      <td>29</td>\n",
       "      <td>Geral</td>\n",
       "      <td>Wednesday</td>\n",
       "      <td>2.885442</td>\n",
       "    </tr>\n",
       "    <tr>\n",
       "      <th>3</th>\n",
       "      <td>Travel | UberX</td>\n",
       "      <td>29</td>\n",
       "      <td>Geral</td>\n",
       "      <td>Thursday</td>\n",
       "      <td>2.293312</td>\n",
       "    </tr>\n",
       "    <tr>\n",
       "      <th>4</th>\n",
       "      <td>Travel | Comfort</td>\n",
       "      <td>46</td>\n",
       "      <td>Geral</td>\n",
       "      <td>Thursday</td>\n",
       "      <td>3.298856</td>\n",
       "    </tr>\n",
       "  </tbody>\n",
       "</table>\n",
       "</div>"
      ],
      "text/plain": [
       "          categoria  duracao      grupo dia_semana  ticket_medio\n",
       "0    Travel | UberX       21  Diretores   Saturday      2.886051\n",
       "1    Travel | UberX       12      Geral   Saturday      3.906667\n",
       "2      Travel | VIP       29      Geral  Wednesday      2.885442\n",
       "3    Travel | UberX       29      Geral   Thursday      2.293312\n",
       "4  Travel | Comfort       46      Geral   Thursday      3.298856"
      ]
     },
     "execution_count": 24,
     "metadata": {},
     "output_type": "execute_result"
    }
   ],
   "source": [
    "df.drop(columns = ['distancia', 'preco'], inplace = True)\n",
    "df.head()"
   ]
  },
  {
   "cell_type": "markdown",
   "metadata": {},
   "source": [
    "Verificando o tamanho do banco de dados resultante:"
   ]
  },
  {
   "cell_type": "code",
   "execution_count": 25,
   "metadata": {},
   "outputs": [
    {
     "data": {
      "text/plain": [
       "(43036, 5)"
      ]
     },
     "execution_count": 25,
     "metadata": {},
     "output_type": "execute_result"
    }
   ],
   "source": [
    "df.shape"
   ]
  },
  {
   "cell_type": "markdown",
   "metadata": {},
   "source": [
    "Obs.: mudança de 43047 linhas para 43036 (redução inferior a 1%)"
   ]
  },
  {
   "cell_type": "markdown",
   "metadata": {},
   "source": [
    "Para a avaliação dos _outliers_ da massa de dados, utilizaremos elementos gráficos."
   ]
  },
  {
   "cell_type": "markdown",
   "metadata": {},
   "source": [
    "Importando as bibliotecas necessárias:"
   ]
  },
  {
   "cell_type": "code",
   "execution_count": 26,
   "metadata": {},
   "outputs": [],
   "source": [
    "import matplotlib.pyplot as plt\n",
    "import seaborn as sns"
   ]
  },
  {
   "cell_type": "markdown",
   "metadata": {},
   "source": [
    "Criando uma lista com as colunas numéricas:"
   ]
  },
  {
   "cell_type": "code",
   "execution_count": 27,
   "metadata": {},
   "outputs": [],
   "source": [
    "cols_num = ['duracao', 'ticket_medio']"
   ]
  },
  {
   "cell_type": "markdown",
   "metadata": {},
   "source": [
    "Plotando os gráficos de _boxplot_:"
   ]
  },
  {
   "cell_type": "code",
   "execution_count": 28,
   "metadata": {},
   "outputs": [
    {
     "data": {
      "image/png": "[encoded data removed]",
      "text/plain": [
       "<Figure size 180x144 with 1 Axes>"
      ]
     },
     "metadata": {
      "needs_background": "light"
     },
     "output_type": "display_data"
    },
    {
     "data": {
      "image/png": "[encoded data removed]",
      "text/plain": [
       "<Figure size 180x144 with 1 Axes>"
      ]
     },
     "metadata": {
      "needs_background": "light"
     },
     "output_type": "display_data"
    }
   ],
   "source": [
    "for i in cols_num:\n",
    "    plt.figure(figsize = (2.5,2))\n",
    "    sns.boxplot(x = df[i])\n",
    "    plt.show()"
   ]
  },
  {
   "cell_type": "markdown",
   "metadata": {},
   "source": [
    "Após a análise dos gráficos acima, foi realizada uma verificação da fonte de dados para confirmar a sua integridade. A princípio, todos os registros parecem corretos e, por isso, os _outliers_ serão mantidos nesse momento."
   ]
  },
  {
   "cell_type": "markdown",
   "metadata": {},
   "source": [
    "## 5. Visualizando os Dados"
   ]
  },
  {
   "cell_type": "markdown",
   "metadata": {},
   "source": [
    "Agora que as primeiras análises foram efetuadas, começaremos a parte de \"visualização dos dados\" para checarmos se alguma outra manipulação é necessária."
   ]
  },
  {
   "cell_type": "markdown",
   "metadata": {},
   "source": [
    "Criando uma lista para as variáveis categóricas:"
   ]
  },
  {
   "cell_type": "code",
   "execution_count": 29,
   "metadata": {},
   "outputs": [],
   "source": [
    "cols_cat = ['categoria', 'grupo', 'dia_semana']"
   ]
  },
  {
   "cell_type": "markdown",
   "metadata": {},
   "source": [
    "Plotando a quantidade de entradas das colunas categóricas:"
   ]
  },
  {
   "cell_type": "code",
   "execution_count": 30,
   "metadata": {},
   "outputs": [
    {
     "data": {
      "image/png": "[encoded data removed]",
      "text/plain": [
       "<Figure size 360x360 with 1 Axes>"
      ]
     },
     "metadata": {
      "needs_background": "light"
     },
     "output_type": "display_data"
    },
    {
     "data": {
      "image/png": "[encoded data removed]",
      "text/plain": [
       "<Figure size 360x360 with 1 Axes>"
      ]
     },
     "metadata": {
      "needs_background": "light"
     },
     "output_type": "display_data"
    },
    {
     "data": {
      "image/png": "[encoded data removed]",
      "text/plain": [
       "<Figure size 360x360 with 1 Axes>"
      ]
     },
     "metadata": {
      "needs_background": "light"
     },
     "output_type": "display_data"
    }
   ],
   "source": [
    "for i in cols_cat:\n",
    "    fig = sns.catplot(data = df, y = i, kind = 'count', order = df[i].value_counts().index)\n",
    "    ax = fig.facet_axis(0,0)\n",
    "    for i in ax.containers:\n",
    "        labels = [v.get_width() for v in i]\n",
    "        ax.bar_label(i, labels = labels)"
   ]
  },
  {
   "cell_type": "markdown",
   "metadata": {},
   "source": [
    "Como a quantidade de categorias Uber é bem desbalanceada, iremos realizar uma simplificação dessa coluna para tentar não enviesar o modelo de classificação:"
   ]
  },
  {
   "cell_type": "code",
   "execution_count": 31,
   "metadata": {},
   "outputs": [],
   "source": [
    "df['categoria'] = df['categoria'].replace(['Travel | UberX', 'Travel | VIP', 'Travel | Comfort',\n",
    "                                            'Travel | UberMedics', 'Travel | Uber Promo', 'Travel | Bag',\n",
    "                                            'Travel | Black', 'Travel | UberX Promo', 'Central | UberX',\n",
    "                                            'Travel | Flash', 'Travel | Táxi Promo', 'Travel | Flash Moto',\n",
    "                                            'Travel | Black Bag', 'Travel | Prioridade',\n",
    "                                            'Travel | Comfort Planet', 'Travel | UberYa Promo',\n",
    "                                            'Travel | UberYa', 'Travel | UberXL', 'Travel | Comfort Aeropuerto',\n",
    "                                            'Travel | UberX SCL', 'Travel | Taxi Precio Cerrado'],\n",
    "                                            ['x', 'x', 'comfort', 'outros', 'outros', 'outros', 'black', 'x',\n",
    "                                            'x', 'flash', 'outros', 'flash', 'black', 'outros', 'comfort',\n",
    "                                            'outros', 'outros', 'outros', 'outros', 'x', 'outros'])"
   ]
  },
  {
   "cell_type": "markdown",
   "metadata": {},
   "source": [
    "Verificando o resultado:"
   ]
  },
  {
   "cell_type": "code",
   "execution_count": 32,
   "metadata": {},
   "outputs": [
    {
     "data": {
      "image/png": "[encoded data removed]",
      "text/plain": [
       "<Figure size 360x360 with 1 Axes>"
      ]
     },
     "metadata": {
      "needs_background": "light"
     },
     "output_type": "display_data"
    }
   ],
   "source": [
    "fig = sns.catplot(data = df, y = 'categoria', kind = 'count', order = df['categoria'].value_counts().index)\n",
    "ax = fig.facet_axis(0,0)\n",
    "for i in ax.containers:\n",
    "    labels = [v.get_width() for v in i]\n",
    "    ax.bar_label(i, labels = labels)"
   ]
  },
  {
   "cell_type": "markdown",
   "metadata": {},
   "source": [
    "Apesar da simplificação da variável _target_, o resultado ainda não foi satisfatório. Por isso, utilizaremos apenas uma amostra das categorias _x_ e _comfort_ para balancear o banco de dados e realizar uma modelagem mais justa."
   ]
  },
  {
   "cell_type": "code",
   "execution_count": 33,
   "metadata": {},
   "outputs": [],
   "source": [
    "df_classe_x = df[df['categoria'] == 'x'].sample(2000)\n",
    "df_classe_comfort = df[df['categoria'] == 'comfort'].sample(500)\n",
    "df_classe_black = df[df['categoria'] == 'black']\n",
    "df_classe_outros = df[df['categoria'] == 'outros']\n",
    "df_classe_flash = df[df['categoria'] == 'flash']\n",
    "df = pd.concat([df_classe_x, df_classe_comfort, df_classe_black, df_classe_outros, df_classe_flash])"
   ]
  },
  {
   "cell_type": "markdown",
   "metadata": {},
   "source": [
    "Checando o resultado:"
   ]
  },
  {
   "cell_type": "code",
   "execution_count": 34,
   "metadata": {},
   "outputs": [
    {
     "data": {
      "text/plain": [
       "(3253, 5)"
      ]
     },
     "execution_count": 34,
     "metadata": {},
     "output_type": "execute_result"
    }
   ],
   "source": [
    "df.shape"
   ]
  },
  {
   "cell_type": "markdown",
   "metadata": {},
   "source": [
    "Antes de passarmos para a análise visual das colunas numéricas, é importante lembrar que elas contêm muitos _outliers_. Esses valores atípicos podem distorcer uma distribuição de probabilidade e dificultar o dimensionamento dos dados usando normalização, pois a média calculada e o desvio padrão serão distorcidos pela presença desses dados.\n",
    "\n",
    "Uma abordagem para padronizar variáveis de entrada na presença de _outliers_ é retirá-los do cálculo da média e do desvio padrão e, em seguida, usar os valores calculados para normalizar as variáveis.\n",
    "\n",
    "Isso é chamado de \"normalização robusta\" ou \"dimensionamento de dados robusto\"."
   ]
  },
  {
   "cell_type": "markdown",
   "metadata": {},
   "source": [
    "### 5.1. Preparando o Banco de Dados para a Normalização Robusta"
   ]
  },
  {
   "cell_type": "markdown",
   "metadata": {},
   "source": [
    "Importando as biblitecas:"
   ]
  },
  {
   "cell_type": "code",
   "execution_count": 35,
   "metadata": {},
   "outputs": [],
   "source": [
    "from sklearn.preprocessing import RobustScaler\n",
    "from sklearn.model_selection import train_test_split\n",
    "from sklearn.preprocessing import OneHotEncoder"
   ]
  },
  {
   "cell_type": "markdown",
   "metadata": {},
   "source": [
    "Performando _one-hot encoding_ para a coluna grupo (categórica):"
   ]
  },
  {
   "cell_type": "code",
   "execution_count": 36,
   "metadata": {},
   "outputs": [
    {
     "data": {
      "text/html": [
       "<div>\n",
       "<style scoped>\n",
       "    .dataframe tbody tr th:only-of-type {\n",
       "        vertical-align: middle;\n",
       "    }\n",
       "\n",
       "    .dataframe tbody tr th {\n",
       "        vertical-align: top;\n",
       "    }\n",
       "\n",
       "    .dataframe thead th {\n",
       "        text-align: right;\n",
       "    }\n",
       "</style>\n",
       "<table border=\"1\" class=\"dataframe\">\n",
       "  <thead>\n",
       "    <tr style=\"text-align: right;\">\n",
       "      <th></th>\n",
       "      <th>0</th>\n",
       "      <th>1</th>\n",
       "    </tr>\n",
       "  </thead>\n",
       "  <tbody>\n",
       "    <tr>\n",
       "      <th>0</th>\n",
       "      <td>0.0</td>\n",
       "      <td>1.0</td>\n",
       "    </tr>\n",
       "    <tr>\n",
       "      <th>1</th>\n",
       "      <td>0.0</td>\n",
       "      <td>1.0</td>\n",
       "    </tr>\n",
       "    <tr>\n",
       "      <th>2</th>\n",
       "      <td>0.0</td>\n",
       "      <td>1.0</td>\n",
       "    </tr>\n",
       "    <tr>\n",
       "      <th>3</th>\n",
       "      <td>0.0</td>\n",
       "      <td>1.0</td>\n",
       "    </tr>\n",
       "    <tr>\n",
       "      <th>4</th>\n",
       "      <td>0.0</td>\n",
       "      <td>1.0</td>\n",
       "    </tr>\n",
       "  </tbody>\n",
       "</table>\n",
       "</div>"
      ],
      "text/plain": [
       "     0    1\n",
       "0  0.0  1.0\n",
       "1  0.0  1.0\n",
       "2  0.0  1.0\n",
       "3  0.0  1.0\n",
       "4  0.0  1.0"
      ]
     },
     "execution_count": 36,
     "metadata": {},
     "output_type": "execute_result"
    }
   ],
   "source": [
    "df_grupo = pd.DataFrame(OneHotEncoder().fit_transform(df[['grupo']]).toarray())\n",
    "df_grupo.head()"
   ]
  },
  {
   "cell_type": "markdown",
   "metadata": {},
   "source": [
    "Juntando o _dataset_ grupo com o original:"
   ]
  },
  {
   "cell_type": "code",
   "execution_count": 37,
   "metadata": {},
   "outputs": [
    {
     "data": {
      "text/html": [
       "<div>\n",
       "<style scoped>\n",
       "    .dataframe tbody tr th:only-of-type {\n",
       "        vertical-align: middle;\n",
       "    }\n",
       "\n",
       "    .dataframe tbody tr th {\n",
       "        vertical-align: top;\n",
       "    }\n",
       "\n",
       "    .dataframe thead th {\n",
       "        text-align: right;\n",
       "    }\n",
       "</style>\n",
       "<table border=\"1\" class=\"dataframe\">\n",
       "  <thead>\n",
       "    <tr style=\"text-align: right;\">\n",
       "      <th></th>\n",
       "      <th>categoria</th>\n",
       "      <th>duracao</th>\n",
       "      <th>grupo</th>\n",
       "      <th>dia_semana</th>\n",
       "      <th>ticket_medio</th>\n",
       "      <th>0</th>\n",
       "      <th>1</th>\n",
       "    </tr>\n",
       "  </thead>\n",
       "  <tbody>\n",
       "    <tr>\n",
       "      <th>0</th>\n",
       "      <td>x</td>\n",
       "      <td>24</td>\n",
       "      <td>Geral</td>\n",
       "      <td>Tuesday</td>\n",
       "      <td>3.754292</td>\n",
       "      <td>0.0</td>\n",
       "      <td>1.0</td>\n",
       "    </tr>\n",
       "    <tr>\n",
       "      <th>1</th>\n",
       "      <td>x</td>\n",
       "      <td>19</td>\n",
       "      <td>Geral</td>\n",
       "      <td>Monday</td>\n",
       "      <td>4.345936</td>\n",
       "      <td>0.0</td>\n",
       "      <td>1.0</td>\n",
       "    </tr>\n",
       "    <tr>\n",
       "      <th>2</th>\n",
       "      <td>x</td>\n",
       "      <td>20</td>\n",
       "      <td>Geral</td>\n",
       "      <td>Wednesday</td>\n",
       "      <td>3.705009</td>\n",
       "      <td>0.0</td>\n",
       "      <td>1.0</td>\n",
       "    </tr>\n",
       "    <tr>\n",
       "      <th>3</th>\n",
       "      <td>x</td>\n",
       "      <td>29</td>\n",
       "      <td>Geral</td>\n",
       "      <td>Thursday</td>\n",
       "      <td>3.157303</td>\n",
       "      <td>0.0</td>\n",
       "      <td>1.0</td>\n",
       "    </tr>\n",
       "    <tr>\n",
       "      <th>4</th>\n",
       "      <td>x</td>\n",
       "      <td>40</td>\n",
       "      <td>Geral</td>\n",
       "      <td>Thursday</td>\n",
       "      <td>3.199120</td>\n",
       "      <td>0.0</td>\n",
       "      <td>1.0</td>\n",
       "    </tr>\n",
       "  </tbody>\n",
       "</table>\n",
       "</div>"
      ],
      "text/plain": [
       "  categoria  duracao  grupo dia_semana  ticket_medio    0    1\n",
       "0         x       24  Geral    Tuesday      3.754292  0.0  1.0\n",
       "1         x       19  Geral     Monday      4.345936  0.0  1.0\n",
       "2         x       20  Geral  Wednesday      3.705009  0.0  1.0\n",
       "3         x       29  Geral   Thursday      3.157303  0.0  1.0\n",
       "4         x       40  Geral   Thursday      3.199120  0.0  1.0"
      ]
     },
     "execution_count": 37,
     "metadata": {},
     "output_type": "execute_result"
    }
   ],
   "source": [
    "df = pd.concat([df.reset_index(), df_grupo], axis = 1)\n",
    "df.drop(columns = ['index'], inplace = True)\n",
    "df.head()"
   ]
  },
  {
   "cell_type": "markdown",
   "metadata": {},
   "source": [
    "Dropando a coluna \"grupo\" e a coluna \"1\" e renomeando a coluna \"0\":"
   ]
  },
  {
   "cell_type": "code",
   "execution_count": 38,
   "metadata": {},
   "outputs": [
    {
     "data": {
      "text/html": [
       "<div>\n",
       "<style scoped>\n",
       "    .dataframe tbody tr th:only-of-type {\n",
       "        vertical-align: middle;\n",
       "    }\n",
       "\n",
       "    .dataframe tbody tr th {\n",
       "        vertical-align: top;\n",
       "    }\n",
       "\n",
       "    .dataframe thead th {\n",
       "        text-align: right;\n",
       "    }\n",
       "</style>\n",
       "<table border=\"1\" class=\"dataframe\">\n",
       "  <thead>\n",
       "    <tr style=\"text-align: right;\">\n",
       "      <th></th>\n",
       "      <th>categoria</th>\n",
       "      <th>duracao</th>\n",
       "      <th>dia_semana</th>\n",
       "      <th>ticket_medio</th>\n",
       "      <th>diretores</th>\n",
       "    </tr>\n",
       "  </thead>\n",
       "  <tbody>\n",
       "    <tr>\n",
       "      <th>0</th>\n",
       "      <td>x</td>\n",
       "      <td>24</td>\n",
       "      <td>Tuesday</td>\n",
       "      <td>3.754292</td>\n",
       "      <td>0.0</td>\n",
       "    </tr>\n",
       "    <tr>\n",
       "      <th>1</th>\n",
       "      <td>x</td>\n",
       "      <td>19</td>\n",
       "      <td>Monday</td>\n",
       "      <td>4.345936</td>\n",
       "      <td>0.0</td>\n",
       "    </tr>\n",
       "    <tr>\n",
       "      <th>2</th>\n",
       "      <td>x</td>\n",
       "      <td>20</td>\n",
       "      <td>Wednesday</td>\n",
       "      <td>3.705009</td>\n",
       "      <td>0.0</td>\n",
       "    </tr>\n",
       "    <tr>\n",
       "      <th>3</th>\n",
       "      <td>x</td>\n",
       "      <td>29</td>\n",
       "      <td>Thursday</td>\n",
       "      <td>3.157303</td>\n",
       "      <td>0.0</td>\n",
       "    </tr>\n",
       "    <tr>\n",
       "      <th>4</th>\n",
       "      <td>x</td>\n",
       "      <td>40</td>\n",
       "      <td>Thursday</td>\n",
       "      <td>3.199120</td>\n",
       "      <td>0.0</td>\n",
       "    </tr>\n",
       "  </tbody>\n",
       "</table>\n",
       "</div>"
      ],
      "text/plain": [
       "  categoria  duracao dia_semana  ticket_medio  diretores\n",
       "0         x       24    Tuesday      3.754292        0.0\n",
       "1         x       19     Monday      4.345936        0.0\n",
       "2         x       20  Wednesday      3.705009        0.0\n",
       "3         x       29   Thursday      3.157303        0.0\n",
       "4         x       40   Thursday      3.199120        0.0"
      ]
     },
     "execution_count": 38,
     "metadata": {},
     "output_type": "execute_result"
    }
   ],
   "source": [
    "df.drop(columns = ['grupo', 1], inplace = True)\n",
    "df.rename(columns = {0: 'diretores'}, inplace = True)\n",
    "df.head()"
   ]
  },
  {
   "cell_type": "markdown",
   "metadata": {},
   "source": [
    "Para a coluna \"dia_semana\", iremos utilizar o método \"_get_dummies_\":"
   ]
  },
  {
   "cell_type": "code",
   "execution_count": 39,
   "metadata": {},
   "outputs": [
    {
     "data": {
      "text/html": [
       "<div>\n",
       "<style scoped>\n",
       "    .dataframe tbody tr th:only-of-type {\n",
       "        vertical-align: middle;\n",
       "    }\n",
       "\n",
       "    .dataframe tbody tr th {\n",
       "        vertical-align: top;\n",
       "    }\n",
       "\n",
       "    .dataframe thead th {\n",
       "        text-align: right;\n",
       "    }\n",
       "</style>\n",
       "<table border=\"1\" class=\"dataframe\">\n",
       "  <thead>\n",
       "    <tr style=\"text-align: right;\">\n",
       "      <th></th>\n",
       "      <th>categoria</th>\n",
       "      <th>duracao</th>\n",
       "      <th>ticket_medio</th>\n",
       "      <th>diretores</th>\n",
       "      <th>Friday</th>\n",
       "      <th>Monday</th>\n",
       "      <th>Saturday</th>\n",
       "      <th>Sunday</th>\n",
       "      <th>Thursday</th>\n",
       "      <th>Tuesday</th>\n",
       "      <th>Wednesday</th>\n",
       "    </tr>\n",
       "  </thead>\n",
       "  <tbody>\n",
       "    <tr>\n",
       "      <th>0</th>\n",
       "      <td>x</td>\n",
       "      <td>24</td>\n",
       "      <td>3.754292</td>\n",
       "      <td>0.0</td>\n",
       "      <td>0</td>\n",
       "      <td>0</td>\n",
       "      <td>0</td>\n",
       "      <td>0</td>\n",
       "      <td>0</td>\n",
       "      <td>1</td>\n",
       "      <td>0</td>\n",
       "    </tr>\n",
       "    <tr>\n",
       "      <th>1</th>\n",
       "      <td>x</td>\n",
       "      <td>19</td>\n",
       "      <td>4.345936</td>\n",
       "      <td>0.0</td>\n",
       "      <td>0</td>\n",
       "      <td>1</td>\n",
       "      <td>0</td>\n",
       "      <td>0</td>\n",
       "      <td>0</td>\n",
       "      <td>0</td>\n",
       "      <td>0</td>\n",
       "    </tr>\n",
       "    <tr>\n",
       "      <th>2</th>\n",
       "      <td>x</td>\n",
       "      <td>20</td>\n",
       "      <td>3.705009</td>\n",
       "      <td>0.0</td>\n",
       "      <td>0</td>\n",
       "      <td>0</td>\n",
       "      <td>0</td>\n",
       "      <td>0</td>\n",
       "      <td>0</td>\n",
       "      <td>0</td>\n",
       "      <td>1</td>\n",
       "    </tr>\n",
       "    <tr>\n",
       "      <th>3</th>\n",
       "      <td>x</td>\n",
       "      <td>29</td>\n",
       "      <td>3.157303</td>\n",
       "      <td>0.0</td>\n",
       "      <td>0</td>\n",
       "      <td>0</td>\n",
       "      <td>0</td>\n",
       "      <td>0</td>\n",
       "      <td>1</td>\n",
       "      <td>0</td>\n",
       "      <td>0</td>\n",
       "    </tr>\n",
       "    <tr>\n",
       "      <th>4</th>\n",
       "      <td>x</td>\n",
       "      <td>40</td>\n",
       "      <td>3.199120</td>\n",
       "      <td>0.0</td>\n",
       "      <td>0</td>\n",
       "      <td>0</td>\n",
       "      <td>0</td>\n",
       "      <td>0</td>\n",
       "      <td>1</td>\n",
       "      <td>0</td>\n",
       "      <td>0</td>\n",
       "    </tr>\n",
       "  </tbody>\n",
       "</table>\n",
       "</div>"
      ],
      "text/plain": [
       "  categoria  duracao  ticket_medio  diretores  Friday  Monday  Saturday  \\\n",
       "0         x       24      3.754292        0.0       0       0         0   \n",
       "1         x       19      4.345936        0.0       0       1         0   \n",
       "2         x       20      3.705009        0.0       0       0         0   \n",
       "3         x       29      3.157303        0.0       0       0         0   \n",
       "4         x       40      3.199120        0.0       0       0         0   \n",
       "\n",
       "   Sunday  Thursday  Tuesday  Wednesday  \n",
       "0       0         0        1          0  \n",
       "1       0         0        0          0  \n",
       "2       0         0        0          1  \n",
       "3       0         1        0          0  \n",
       "4       0         1        0          0  "
      ]
     },
     "execution_count": 39,
     "metadata": {},
     "output_type": "execute_result"
    }
   ],
   "source": [
    "df = pd.get_dummies(df, columns = ['dia_semana'], prefix = '', prefix_sep = '')\n",
    "df.head()"
   ]
  },
  {
   "cell_type": "markdown",
   "metadata": {},
   "source": [
    "### 5.2. Normalização Robusta"
   ]
  },
  {
   "cell_type": "markdown",
   "metadata": {},
   "source": [
    "Realizando a divisão do banco de dados em variável dependentes, independente, treino e teste:"
   ]
  },
  {
   "cell_type": "code",
   "execution_count": 40,
   "metadata": {},
   "outputs": [],
   "source": [
    "X = df.drop(columns = 'categoria')\n",
    "y = df[['categoria']]"
   ]
  },
  {
   "cell_type": "code",
   "execution_count": 41,
   "metadata": {},
   "outputs": [],
   "source": [
    "X_train, X_test, y_train, y_test = train_test_split(X, y, test_size = 0.2, random_state = 7)"
   ]
  },
  {
   "cell_type": "markdown",
   "metadata": {},
   "source": [
    "Criando o escalonador:"
   ]
  },
  {
   "cell_type": "code",
   "execution_count": 42,
   "metadata": {},
   "outputs": [],
   "source": [
    "scaler = RobustScaler().fit(X_train)"
   ]
  },
  {
   "cell_type": "markdown",
   "metadata": {},
   "source": [
    "Escalonando o dataframe X:"
   ]
  },
  {
   "cell_type": "code",
   "execution_count": 43,
   "metadata": {},
   "outputs": [],
   "source": [
    "X_train_scaled = scaler.transform(X_train)\n",
    "X_test_scaled = scaler.transform(X_test)"
   ]
  },
  {
   "cell_type": "markdown",
   "metadata": {},
   "source": [
    "Transformando as partes de treino e teste para dataframe para visualizar o resultado:"
   ]
  },
  {
   "cell_type": "code",
   "execution_count": 44,
   "metadata": {},
   "outputs": [],
   "source": [
    "X_train = pd.DataFrame(X_train_scaled, columns = X_train.columns)\n",
    "X_test = pd.DataFrame(X_test_scaled, columns = X_test.columns)"
   ]
  },
  {
   "cell_type": "code",
   "execution_count": 45,
   "metadata": {},
   "outputs": [
    {
     "data": {
      "text/html": [
       "<div>\n",
       "<style scoped>\n",
       "    .dataframe tbody tr th:only-of-type {\n",
       "        vertical-align: middle;\n",
       "    }\n",
       "\n",
       "    .dataframe tbody tr th {\n",
       "        vertical-align: top;\n",
       "    }\n",
       "\n",
       "    .dataframe thead th {\n",
       "        text-align: right;\n",
       "    }\n",
       "</style>\n",
       "<table border=\"1\" class=\"dataframe\">\n",
       "  <thead>\n",
       "    <tr style=\"text-align: right;\">\n",
       "      <th></th>\n",
       "      <th>duracao</th>\n",
       "      <th>ticket_medio</th>\n",
       "      <th>diretores</th>\n",
       "      <th>Friday</th>\n",
       "      <th>Monday</th>\n",
       "      <th>Saturday</th>\n",
       "      <th>Sunday</th>\n",
       "      <th>Thursday</th>\n",
       "      <th>Tuesday</th>\n",
       "      <th>Wednesday</th>\n",
       "    </tr>\n",
       "  </thead>\n",
       "  <tbody>\n",
       "    <tr>\n",
       "      <th>0</th>\n",
       "      <td>2.454545</td>\n",
       "      <td>0.672948</td>\n",
       "      <td>0.0</td>\n",
       "      <td>0.0</td>\n",
       "      <td>0.0</td>\n",
       "      <td>0.0</td>\n",
       "      <td>0.0</td>\n",
       "      <td>0.0</td>\n",
       "      <td>1.0</td>\n",
       "      <td>0.0</td>\n",
       "    </tr>\n",
       "    <tr>\n",
       "      <th>1</th>\n",
       "      <td>-0.863636</td>\n",
       "      <td>1.214087</td>\n",
       "      <td>0.0</td>\n",
       "      <td>1.0</td>\n",
       "      <td>0.0</td>\n",
       "      <td>0.0</td>\n",
       "      <td>0.0</td>\n",
       "      <td>0.0</td>\n",
       "      <td>0.0</td>\n",
       "      <td>0.0</td>\n",
       "    </tr>\n",
       "    <tr>\n",
       "      <th>2</th>\n",
       "      <td>3.500000</td>\n",
       "      <td>-0.408513</td>\n",
       "      <td>0.0</td>\n",
       "      <td>0.0</td>\n",
       "      <td>0.0</td>\n",
       "      <td>0.0</td>\n",
       "      <td>0.0</td>\n",
       "      <td>0.0</td>\n",
       "      <td>1.0</td>\n",
       "      <td>0.0</td>\n",
       "    </tr>\n",
       "    <tr>\n",
       "      <th>3</th>\n",
       "      <td>0.045455</td>\n",
       "      <td>0.370131</td>\n",
       "      <td>0.0</td>\n",
       "      <td>0.0</td>\n",
       "      <td>0.0</td>\n",
       "      <td>0.0</td>\n",
       "      <td>0.0</td>\n",
       "      <td>1.0</td>\n",
       "      <td>0.0</td>\n",
       "      <td>0.0</td>\n",
       "    </tr>\n",
       "    <tr>\n",
       "      <th>4</th>\n",
       "      <td>0.681818</td>\n",
       "      <td>-0.055963</td>\n",
       "      <td>0.0</td>\n",
       "      <td>0.0</td>\n",
       "      <td>0.0</td>\n",
       "      <td>0.0</td>\n",
       "      <td>0.0</td>\n",
       "      <td>0.0</td>\n",
       "      <td>0.0</td>\n",
       "      <td>1.0</td>\n",
       "    </tr>\n",
       "  </tbody>\n",
       "</table>\n",
       "</div>"
      ],
      "text/plain": [
       "    duracao  ticket_medio  diretores  Friday  Monday  Saturday  Sunday  \\\n",
       "0  2.454545      0.672948        0.0     0.0     0.0       0.0     0.0   \n",
       "1 -0.863636      1.214087        0.0     1.0     0.0       0.0     0.0   \n",
       "2  3.500000     -0.408513        0.0     0.0     0.0       0.0     0.0   \n",
       "3  0.045455      0.370131        0.0     0.0     0.0       0.0     0.0   \n",
       "4  0.681818     -0.055963        0.0     0.0     0.0       0.0     0.0   \n",
       "\n",
       "   Thursday  Tuesday  Wednesday  \n",
       "0       0.0      1.0        0.0  \n",
       "1       0.0      0.0        0.0  \n",
       "2       0.0      1.0        0.0  \n",
       "3       1.0      0.0        0.0  \n",
       "4       0.0      0.0        1.0  "
      ]
     },
     "execution_count": 45,
     "metadata": {},
     "output_type": "execute_result"
    }
   ],
   "source": [
    "X_train.head()"
   ]
  },
  {
   "cell_type": "code",
   "execution_count": 46,
   "metadata": {},
   "outputs": [
    {
     "data": {
      "text/html": [
       "<div>\n",
       "<style scoped>\n",
       "    .dataframe tbody tr th:only-of-type {\n",
       "        vertical-align: middle;\n",
       "    }\n",
       "\n",
       "    .dataframe tbody tr th {\n",
       "        vertical-align: top;\n",
       "    }\n",
       "\n",
       "    .dataframe thead th {\n",
       "        text-align: right;\n",
       "    }\n",
       "</style>\n",
       "<table border=\"1\" class=\"dataframe\">\n",
       "  <thead>\n",
       "    <tr style=\"text-align: right;\">\n",
       "      <th></th>\n",
       "      <th>duracao</th>\n",
       "      <th>ticket_medio</th>\n",
       "      <th>diretores</th>\n",
       "      <th>Friday</th>\n",
       "      <th>Monday</th>\n",
       "      <th>Saturday</th>\n",
       "      <th>Sunday</th>\n",
       "      <th>Thursday</th>\n",
       "      <th>Tuesday</th>\n",
       "      <th>Wednesday</th>\n",
       "    </tr>\n",
       "  </thead>\n",
       "  <tbody>\n",
       "    <tr>\n",
       "      <th>0</th>\n",
       "      <td>0.636364</td>\n",
       "      <td>-0.430515</td>\n",
       "      <td>0.0</td>\n",
       "      <td>0.0</td>\n",
       "      <td>0.0</td>\n",
       "      <td>0.0</td>\n",
       "      <td>0.0</td>\n",
       "      <td>0.0</td>\n",
       "      <td>0.0</td>\n",
       "      <td>1.0</td>\n",
       "    </tr>\n",
       "    <tr>\n",
       "      <th>1</th>\n",
       "      <td>-0.227273</td>\n",
       "      <td>-0.034327</td>\n",
       "      <td>0.0</td>\n",
       "      <td>0.0</td>\n",
       "      <td>0.0</td>\n",
       "      <td>0.0</td>\n",
       "      <td>0.0</td>\n",
       "      <td>1.0</td>\n",
       "      <td>0.0</td>\n",
       "      <td>0.0</td>\n",
       "    </tr>\n",
       "    <tr>\n",
       "      <th>2</th>\n",
       "      <td>-0.500000</td>\n",
       "      <td>-0.081969</td>\n",
       "      <td>0.0</td>\n",
       "      <td>0.0</td>\n",
       "      <td>1.0</td>\n",
       "      <td>0.0</td>\n",
       "      <td>0.0</td>\n",
       "      <td>0.0</td>\n",
       "      <td>0.0</td>\n",
       "      <td>0.0</td>\n",
       "    </tr>\n",
       "    <tr>\n",
       "      <th>3</th>\n",
       "      <td>1.045455</td>\n",
       "      <td>0.187360</td>\n",
       "      <td>0.0</td>\n",
       "      <td>1.0</td>\n",
       "      <td>0.0</td>\n",
       "      <td>0.0</td>\n",
       "      <td>0.0</td>\n",
       "      <td>0.0</td>\n",
       "      <td>0.0</td>\n",
       "      <td>0.0</td>\n",
       "    </tr>\n",
       "    <tr>\n",
       "      <th>4</th>\n",
       "      <td>1.181818</td>\n",
       "      <td>-0.271513</td>\n",
       "      <td>0.0</td>\n",
       "      <td>0.0</td>\n",
       "      <td>0.0</td>\n",
       "      <td>0.0</td>\n",
       "      <td>0.0</td>\n",
       "      <td>0.0</td>\n",
       "      <td>0.0</td>\n",
       "      <td>1.0</td>\n",
       "    </tr>\n",
       "  </tbody>\n",
       "</table>\n",
       "</div>"
      ],
      "text/plain": [
       "    duracao  ticket_medio  diretores  Friday  Monday  Saturday  Sunday  \\\n",
       "0  0.636364     -0.430515        0.0     0.0     0.0       0.0     0.0   \n",
       "1 -0.227273     -0.034327        0.0     0.0     0.0       0.0     0.0   \n",
       "2 -0.500000     -0.081969        0.0     0.0     1.0       0.0     0.0   \n",
       "3  1.045455      0.187360        0.0     1.0     0.0       0.0     0.0   \n",
       "4  1.181818     -0.271513        0.0     0.0     0.0       0.0     0.0   \n",
       "\n",
       "   Thursday  Tuesday  Wednesday  \n",
       "0       0.0      0.0        1.0  \n",
       "1       1.0      0.0        0.0  \n",
       "2       0.0      0.0        0.0  \n",
       "3       0.0      0.0        0.0  \n",
       "4       0.0      0.0        1.0  "
      ]
     },
     "execution_count": 46,
     "metadata": {},
     "output_type": "execute_result"
    }
   ],
   "source": [
    "X_test.head()"
   ]
  },
  {
   "cell_type": "markdown",
   "metadata": {},
   "source": [
    "Reunindo as bases de treino e teste para a visualização dos dados numéricos:"
   ]
  },
  {
   "cell_type": "code",
   "execution_count": 47,
   "metadata": {},
   "outputs": [],
   "source": [
    "df_scaled = pd.concat([X_train, X_test], ignore_index = True)"
   ]
  },
  {
   "cell_type": "markdown",
   "metadata": {},
   "source": [
    "### 5.2. Visualizando os Dados Numéricos"
   ]
  },
  {
   "cell_type": "markdown",
   "metadata": {},
   "source": [
    "Plotando gráficos de distribuição para as colunas numéricas normalizadas:"
   ]
  },
  {
   "cell_type": "code",
   "execution_count": 48,
   "metadata": {},
   "outputs": [
    {
     "data": {
      "image/png": "[encoded data removed]",
      "text/plain": [
       "<Figure size 360x360 with 1 Axes>"
      ]
     },
     "metadata": {
      "needs_background": "light"
     },
     "output_type": "display_data"
    },
    {
     "data": {
      "image/png": "[encoded data removed]",
      "text/plain": [
       "<Figure size 360x360 with 1 Axes>"
      ]
     },
     "metadata": {
      "needs_background": "light"
     },
     "output_type": "display_data"
    }
   ],
   "source": [
    "for i in cols_num:\n",
    "    sns.displot(data = df_scaled, x = i)"
   ]
  },
  {
   "cell_type": "markdown",
   "metadata": {},
   "source": [
    "## 6. Construindo o Modelo de Classificação"
   ]
  },
  {
   "cell_type": "markdown",
   "metadata": {},
   "source": [
    "Importando as bibliotecas necessárias:"
   ]
  },
  {
   "cell_type": "code",
   "execution_count": 49,
   "metadata": {},
   "outputs": [],
   "source": [
    "from sklearn.neural_network import MLPClassifier\n",
    "import numpy as np\n",
    "from sklearn.metrics import accuracy_score\n",
    "from sklearn.metrics import ConfusionMatrixDisplay"
   ]
  },
  {
   "cell_type": "markdown",
   "metadata": {},
   "source": [
    "Criando e treinando o classificador:"
   ]
  },
  {
   "cell_type": "code",
   "execution_count": 50,
   "metadata": {},
   "outputs": [],
   "source": [
    "clf = MLPClassifier(hidden_layer_sizes = 100).fit(X_train, np.ravel(y_train))"
   ]
  },
  {
   "cell_type": "markdown",
   "metadata": {},
   "source": [
    "Gerando uma matriz de confusão para analisar a performance do modelo pelo número de casos Verdadeiros Positivos (TP), Verdadeiros Negativos (TN), Falsos Positivos (FP) e Falsos Negativos (FN):"
   ]
  },
  {
   "cell_type": "code",
   "execution_count": 51,
   "metadata": {},
   "outputs": [
    {
     "data": {
      "text/plain": [
       "<sklearn.metrics._plot.confusion_matrix.ConfusionMatrixDisplay at 0x247fe23b220>"
      ]
     },
     "execution_count": 51,
     "metadata": {},
     "output_type": "execute_result"
    },
    {
     "data": {
      "image/png": "[encoded data removed]",
      "text/plain": [
       "<Figure size 432x288 with 2 Axes>"
      ]
     },
     "metadata": {
      "needs_background": "light"
     },
     "output_type": "display_data"
    }
   ],
   "source": [
    "ConfusionMatrixDisplay.from_estimator(clf, X_test, y_test)"
   ]
  },
  {
   "cell_type": "markdown",
   "metadata": {},
   "source": [
    "A matriz de confusão do modelo indica que ele é muito bom para classificar as categorias \"black\" e \"x\", mas tem bastante dificuldade com as outras. "
   ]
  },
  {
   "cell_type": "markdown",
   "metadata": {},
   "source": [
    "### 6.1. Tunning de Hiperparâmetros"
   ]
  },
  {
   "cell_type": "markdown",
   "metadata": {},
   "source": [
    "Nesse item, iremos tentar melhorar o modelo por meio da aplicação da técnica de \"_tunning_ de hiperparâmetros\"."
   ]
  },
  {
   "cell_type": "markdown",
   "metadata": {},
   "source": [
    "Importando a bibliteca necessária:"
   ]
  },
  {
   "cell_type": "code",
   "execution_count": 52,
   "metadata": {},
   "outputs": [],
   "source": [
    "from sklearn.model_selection import GridSearchCV"
   ]
  },
  {
   "cell_type": "markdown",
   "metadata": {},
   "source": [
    "Estipulando os parâmetros de variação para o _grid search_:"
   ]
  },
  {
   "cell_type": "code",
   "execution_count": 53,
   "metadata": {},
   "outputs": [],
   "source": [
    "params = {'hidden_layer_sizes': range(500, 750, 125),\n",
    "            'activation': ['identity', 'logistic', 'tanh', 'relu'],\n",
    "            'solver': ['sgd', 'adam'],\n",
    "            'learning_rate': ['constant', 'invscaling', 'adaptive']}"
   ]
  },
  {
   "cell_type": "markdown",
   "metadata": {},
   "source": [
    "Reiniciando o classificador:"
   ]
  },
  {
   "cell_type": "code",
   "execution_count": 54,
   "metadata": {},
   "outputs": [],
   "source": [
    "clf = MLPClassifier()"
   ]
  },
  {
   "cell_type": "markdown",
   "metadata": {},
   "source": [
    "Aplicando o _grid search_:"
   ]
  },
  {
   "cell_type": "code",
   "execution_count": 55,
   "metadata": {},
   "outputs": [],
   "source": [
    "grid_search = GridSearchCV(clf, param_grid = params, n_jobs = -1).fit(X_train, np.ravel(y_train))"
   ]
  },
  {
   "cell_type": "markdown",
   "metadata": {},
   "source": [
    "Exibindo os melhores parâmetros:"
   ]
  },
  {
   "cell_type": "code",
   "execution_count": 61,
   "metadata": {},
   "outputs": [
    {
     "data": {
      "text/plain": [
       "{'activation': 'tanh',\n",
       " 'hidden_layer_sizes': 625,\n",
       " 'learning_rate': 'invscaling',\n",
       " 'solver': 'adam'}"
      ]
     },
     "execution_count": 61,
     "metadata": {},
     "output_type": "execute_result"
    }
   ],
   "source": [
    "grid_search.best_params_"
   ]
  },
  {
   "cell_type": "markdown",
   "metadata": {},
   "source": [
    "Criando o classificador com os melhores parâmetros:"
   ]
  },
  {
   "cell_type": "code",
   "execution_count": 56,
   "metadata": {},
   "outputs": [],
   "source": [
    "clf_best = grid_search.best_estimator_"
   ]
  },
  {
   "cell_type": "markdown",
   "metadata": {},
   "source": [
    "## 7. Resultados"
   ]
  },
  {
   "cell_type": "markdown",
   "metadata": {},
   "source": [
    "Verificando novamente a matriz de confusão do modelo:"
   ]
  },
  {
   "cell_type": "code",
   "execution_count": 60,
   "metadata": {},
   "outputs": [
    {
     "data": {
      "text/plain": [
       "<sklearn.metrics._plot.confusion_matrix.ConfusionMatrixDisplay at 0x247fecb9b20>"
      ]
     },
     "execution_count": 60,
     "metadata": {},
     "output_type": "execute_result"
    },
    {
     "data": {
      "image/png": "[encoded data removed]",
      "text/plain": [
       "<Figure size 432x288 with 2 Axes>"
      ]
     },
     "metadata": {
      "needs_background": "light"
     },
     "output_type": "display_data"
    }
   ],
   "source": [
    "ConfusionMatrixDisplay.from_estimator(clf_best, X_test, y_test)"
   ]
  },
  {
   "cell_type": "markdown",
   "metadata": {},
   "source": [
    "Predizendo os valores da base de teste:"
   ]
  },
  {
   "cell_type": "code",
   "execution_count": 57,
   "metadata": {},
   "outputs": [],
   "source": [
    "y_pred = clf_best.predict(X_test)"
   ]
  },
  {
   "cell_type": "markdown",
   "metadata": {},
   "source": [
    "Medindo a acurácia do modelo:"
   ]
  },
  {
   "cell_type": "code",
   "execution_count": 64,
   "metadata": {},
   "outputs": [
    {
     "name": "stdout",
     "output_type": "stream",
     "text": [
      "73.8863287250384%\n"
     ]
    }
   ],
   "source": [
    "print(f'{accuracy_score(y_test, y_pred)*100}'+'%')"
   ]
  },
  {
   "cell_type": "code",
   "execution_count": 67,
   "metadata": {},
   "outputs": [
    {
     "data": {
      "text/plain": [
       "1.0"
      ]
     },
     "execution_count": 67,
     "metadata": {},
     "output_type": "execute_result"
    }
   ],
   "source": [
    "clf_best.score(X_test, y_pred)"
   ]
  },
  {
   "cell_type": "markdown",
   "metadata": {},
   "source": [
    "## 8. Conclusão"
   ]
  },
  {
   "cell_type": "markdown",
   "metadata": {},
   "source": [
    "Por meio dos resultados obtidos, concluímos que o classificador não obteve um nível relevante de sucesso. Provavelmente, isso se deu pelo fato das variáveis independentes não serem suficientemente diferenciadoras e também pela sabida ocorrência dos \"preços dinâmicos\" do aplicativo Uber, que fazem com que a \"hierarquia\" das tarifas se altere em determinados contexto.\n",
    "\n",
    "De toda forma, fica a experiência do desenvolvimento desse projeto e a possibilidade de melhorias para uma futura versão."
   ]
  }
 ],
 "metadata": {
  "kernelspec": {
   "display_name": "Python 3.9.13 64-bit (microsoft store)",
   "language": "python",
   "name": "python3"
  },
  "language_info": {
   "codemirror_mode": {
    "name": "ipython",
    "version": 3
   },
   "file_extension": ".py",
   "mimetype": "text/x-python",
   "name": "python",
   "nbconvert_exporter": "python",
   "pygments_lexer": "ipython3",
   "version": "3.9.13"
  },
  "orig_nbformat": 4,
  "vscode": {
   "interpreter": {
    "hash": "8460145c57a5dfa141f8fd740d97ed4b4b09e9da5e80dbc7844ad129040b55cf"
   }
  }
 },
 "nbformat": 4,
 "nbformat_minor": 2
}
